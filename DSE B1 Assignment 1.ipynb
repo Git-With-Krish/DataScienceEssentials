{
 "cells": [
  {
   "cell_type": "raw",
   "metadata": {},
   "source": [
    "Question 1:"
   ]
  },
  {
   "cell_type": "code",
   "execution_count": 6,
   "metadata": {},
   "outputs": [
    {
     "name": "stdout",
     "output_type": "stream",
     "text": [
      "RAINBOW\n"
     ]
    }
   ],
   "source": [
    "import enchant\n",
    "a = enchant.Dict(\"en_US\")\n",
    "choices=['RAINBOW',\"RANIBOW\",\"BOWRANI\",\"ROBWANI\"]\n",
    "\n",
    "for i in range(len(choices)):\n",
    "    if a.check(choices[i]) == True:\n",
    "        print(choices[i])    "
   ]
  },
  {
   "cell_type": "raw",
   "metadata": {},
   "source": [
    "Question 2:"
   ]
  },
  {
   "cell_type": "code",
   "execution_count": 5,
   "metadata": {},
   "outputs": [
    {
     "name": "stdout",
     "output_type": "stream",
     "text": [
      "lets upgrade\n",
      "LETS UPGRADE\n"
     ]
    }
   ],
   "source": [
    "tobeprinted=input().upper()\n",
    "print(tobeprinted)"
   ]
  },
  {
   "cell_type": "raw",
   "metadata": {},
   "source": [
    "Question 3:"
   ]
  },
  {
   "cell_type": "code",
   "execution_count": 5,
   "metadata": {},
   "outputs": [
    {
     "name": "stdout",
     "output_type": "stream",
     "text": [
      "20\n",
      "30\n",
      "Profit\n"
     ]
    }
   ],
   "source": [
    "costPrice = int(input())\n",
    "sellingPrice = int(input())\n",
    "profit=\"Profit\"\n",
    "loss=\"Loss\"\n",
    "neither=\"Neither\"\n",
    "\n",
    "if (costPrice > 0) & (sellingPrice > 0):\n",
    "    if costPrice == sellingPrice:\n",
    "        print(neither)\n",
    "    elif costPrice > sellingPrice:\n",
    "        print(loss)\n",
    "    else:\n",
    "        print(profit)"
   ]
  },
  {
   "cell_type": "raw",
   "metadata": {},
   "source": [
    "Question 4:"
   ]
  },
  {
   "cell_type": "code",
   "execution_count": 4,
   "metadata": {},
   "outputs": [
    {
     "name": "stdout",
     "output_type": "stream",
     "text": [
      "7\n",
      "560\n"
     ]
    }
   ],
   "source": [
    "userInput=int(input())\n",
    "amount=0\n",
    "if userInput > 0:\n",
    "    amount = userInput*80\n",
    "    print(amount)\n",
    "else:\n",
    "    print(amount)"
   ]
  }
 ],
 "metadata": {
  "kernelspec": {
   "display_name": "Python 3",
   "language": "python",
   "name": "python3"
  },
  "language_info": {
   "codemirror_mode": {
    "name": "ipython",
    "version": 3
   },
   "file_extension": ".py",
   "mimetype": "text/x-python",
   "name": "python",
   "nbconvert_exporter": "python",
   "pygments_lexer": "ipython3",
   "version": "3.7.6"
  }
 },
 "nbformat": 4,
 "nbformat_minor": 4
}
